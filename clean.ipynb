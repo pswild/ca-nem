{
 "cells": [
  {
   "cell_type": "code",
   "execution_count": 140,
   "metadata": {},
   "outputs": [],
   "source": [
    "import os\n",
    "import numpy as np\n",
    "import pandas as pd"
   ]
  },
  {
   "cell_type": "code",
   "execution_count": 141,
   "metadata": {},
   "outputs": [],
   "source": [
    "# Columns to keep.\n",
    "usecols = [\n",
    "    'Application Id',\n",
    "    'Utility',\n",
    "    'Service City',\n",
    "    'Service Zip',\n",
    "    'Service County',\n",
    "    'Technology Type',\n",
    "    'System Size DC',\n",
    "    'System Size AC',\n",
    "    'Inverter Size (kW AC)',\n",
    "    'Tilt',\n",
    "    'Azimuth',\n",
    "    'Mounting Method',\n",
    "    'Tracking',\n",
    "    'Customer Sector',\n",
    "    'App Approved Date',\n",
    "    'Total System Cost',\n",
    "    'Itc Cost Basis',\n",
    "    'NEM Tariff',\n",
    "    'Interconnection Program',\n",
    "    'VNEM, NEM-V, NEM-Agg',\n",
    "    'Project is VNEM, NEM-V, NEM-Agg?',\n",
    "    'NEMPV or nonNEMPV'\n",
    "]\n",
    "\n",
    "# Utilities. \n",
    "utilities = [\n",
    "    'PGE',\n",
    "    'SDGE',\n",
    "    'SCE'\n",
    "]\n",
    "\n",
    "# Technologies in which solar is the sole means of generation.\n",
    "# NOTE: should we include sites with storage?\n",
    "technologies = [\n",
    "    'Solar PV',\n",
    "    'Solar',\n",
    "    'Solar PV, Storage',\n",
    "    'Solar PV;Storage',\n",
    "    'SOLAR PV',\n",
    "    'Other, Solar PV',\n",
    "    'Other, Solar PV, Storage'\n",
    "]"
   ]
  },
  {
   "cell_type": "code",
   "execution_count": 142,
   "metadata": {},
   "outputs": [
    {
     "name": "stderr",
     "output_type": "stream",
     "text": [
      "/var/folders/zw/znrrh10n18z0wf8gggwxj0jc0000gn/T/ipykernel_14407/4279495529.py:14: DtypeWarning: Columns (13,14,15) have mixed types. Specify dtype option on import or set low_memory=False.\n",
      "  subset = pd.read_csv(path, usecols=usecols)\n",
      "/var/folders/zw/znrrh10n18z0wf8gggwxj0jc0000gn/T/ipykernel_14407/4279495529.py:14: DtypeWarning: Columns (13,14) have mixed types. Specify dtype option on import or set low_memory=False.\n",
      "  subset = pd.read_csv(path, usecols=usecols)\n",
      "/var/folders/zw/znrrh10n18z0wf8gggwxj0jc0000gn/T/ipykernel_14407/4279495529.py:14: DtypeWarning: Columns (13,14) have mixed types. Specify dtype option on import or set low_memory=False.\n",
      "  subset = pd.read_csv(path, usecols=usecols)\n"
     ]
    }
   ],
   "source": [
    "# Directory path. \n",
    "dir = 'data/Interconnected_Project_Sites_2023-03-31/'\n",
    "\n",
    "# Dataframe for sites. \n",
    "df = pd.DataFrame()\n",
    "\n",
    "# Combine interconnection data from all utilities.\n",
    "for file in os.listdir(dir):\n",
    "\n",
    "    # Update path.\n",
    "    path = os.path.join(dir, file)\n",
    "\n",
    "    # Read data from one utility into dataframe. \n",
    "    subset = pd.read_csv(path, usecols=usecols)\n",
    "\n",
    "    # Append. \n",
    "    df = pd.concat([df, subset])"
   ]
  },
  {
   "cell_type": "code",
   "execution_count": 143,
   "metadata": {},
   "outputs": [],
   "source": [
    "# Filter data by utility, customer sector, tariff structure, and technology type.\n",
    "df = df.loc[\n",
    "    (df['Utility'].isin(utilities)) &\n",
    "    (df['Customer Sector'] == 'Residential') &\n",
    "    (df['NEMPV or nonNEMPV'] == 'NEMPV') & \n",
    "    (df['Technology Type'].isin(technologies))\n",
    "]"
   ]
  },
  {
   "cell_type": "code",
   "execution_count": 144,
   "metadata": {},
   "outputs": [],
   "source": [
    "# Convert to uppercase.\n",
    "df['Application Id'] = df['Application Id'].str.upper()\n",
    "df['Utility'] = df['Utility'].str.upper()\n",
    "df['Service City'] = df['Service City'].str.upper()\n",
    "df['Service County'] = df['Service County'].str.upper()\n",
    "df['Technology Type'] = df['Technology Type'].str.upper()\n",
    "df['Mounting Method'] = df['Mounting Method'].str.upper()\n",
    "df['Tracking'] = df['Tracking'].str.upper()\n",
    "df['Customer Sector'] = df['Customer Sector'].str.upper()\n",
    "df['Interconnection Program'] = df['Interconnection Program'].str.upper()\n",
    "df['VNEM, NEM-V, NEM-Agg'] = df['VNEM, NEM-V, NEM-Agg'].str.upper()\n",
    "df['Project is VNEM, NEM-V, NEM-Agg?'] = df['Project is VNEM, NEM-V, NEM-Agg?'].str.upper()\n",
    "df['NEMPV or nonNEMPV'] = df['NEMPV or nonNEMPV'].str.upper()"
   ]
  },
  {
   "cell_type": "code",
   "execution_count": 145,
   "metadata": {},
   "outputs": [
    {
     "data": {
      "text/plain": [
       "Application Id                           0\n",
       "Utility                                  0\n",
       "Service City                             0\n",
       "Service Zip                              0\n",
       "Service County                           0\n",
       "Technology Type                          0\n",
       "System Size DC                           0\n",
       "System Size AC                           0\n",
       "Inverter Size (kW AC)               554261\n",
       "Tilt                                118751\n",
       "Azimuth                             118751\n",
       "Mounting Method                     197722\n",
       "Tracking                            144276\n",
       "Customer Sector                          0\n",
       "App Approved Date                        0\n",
       "Total System Cost                   531230\n",
       "Itc Cost Basis                      565574\n",
       "NEM Tariff                               0\n",
       "Interconnection Program                  0\n",
       "VNEM, NEM-V, NEM-Agg                     0\n",
       "Project is VNEM, NEM-V, NEM-Agg?         0\n",
       "NEMPV or nonNEMPV                        0\n",
       "dtype: int64"
      ]
     },
     "execution_count": 145,
     "metadata": {},
     "output_type": "execute_result"
    }
   ],
   "source": [
    "# Check NaNs.\n",
    "df.isna().sum()"
   ]
  },
  {
   "cell_type": "code",
   "execution_count": 146,
   "metadata": {},
   "outputs": [],
   "source": [
    "# Fill relevant NaNs.\n",
    "df['Mounting Method'].fillna(value='ROOFTOP', inplace=True)\n",
    "df['Tracking'].fillna(value='FIXED', inplace=True)"
   ]
  },
  {
   "cell_type": "code",
   "execution_count": 147,
   "metadata": {},
   "outputs": [
    {
     "data": {
      "text/plain": [
       "Application Id                       object\n",
       "Utility                              object\n",
       "Service City                         object\n",
       "Service Zip                         float64\n",
       "Service County                       object\n",
       "Technology Type                      object\n",
       "System Size DC                      float64\n",
       "System Size AC                      float64\n",
       "Inverter Size (kW AC)               float64\n",
       "Tilt                                 object\n",
       "Azimuth                              object\n",
       "Mounting Method                      object\n",
       "Tracking                             object\n",
       "Customer Sector                      object\n",
       "App Approved Date                    object\n",
       "Total System Cost                   float64\n",
       "Itc Cost Basis                      float64\n",
       "NEM Tariff                          float64\n",
       "Interconnection Program              object\n",
       "VNEM, NEM-V, NEM-Agg                 object\n",
       "Project is VNEM, NEM-V, NEM-Agg?     object\n",
       "NEMPV or nonNEMPV                    object\n",
       "dtype: object"
      ]
     },
     "execution_count": 147,
     "metadata": {},
     "output_type": "execute_result"
    }
   ],
   "source": [
    "# Check data types.\n",
    "df.dtypes"
   ]
  },
  {
   "cell_type": "code",
   "execution_count": 148,
   "metadata": {},
   "outputs": [],
   "source": [
    "# Clean data.\n",
    "df.loc[df['Technology Type'] == 'SOLAR', ['Technology Type']] = 'SOLAR PV'\n",
    "df.loc[df['Technology Type'] == 'OTHER, SOLAR PV', ['Technology Type']] = 'SOLAR PV'\n",
    "df.loc[df['Technology Type'] == 'SOLAR PV;STORAGE', ['Technology Type']] = 'SOLAR PV, STORAGE'\n",
    "df.loc[df['Technology Type'] == 'OTHER, SOLAR PV, STORAGE', ['Technology Type']] = 'SOLAR PV, STORAGE'\n",
    "df.loc[df['Mounting Method'] == 'MULTIPLE', ['Mounting Method']] = 'MIXED'\n",
    "df.loc[df['Tracking'] == 'MULTIPLE', ['Tracking']] = 'MIXED'\n",
    "df.loc[df['Tracking'] == 'TRACKING', ['Tracking']] = 'SINGLE-AXIS'\n",
    "\n",
    "# Remove negative values.\n",
    "df['System Size DC'] = df['System Size DC'].abs()\n",
    "df['System Size AC'] = df['System Size AC'].abs()\n",
    "df['Inverter Size (kW AC)'] = df['Inverter Size (kW AC)'].abs()"
   ]
  },
  {
   "cell_type": "code",
   "execution_count": 149,
   "metadata": {},
   "outputs": [
    {
     "data": {
      "text/html": [
       "<div>\n",
       "<style scoped>\n",
       "    .dataframe tbody tr th:only-of-type {\n",
       "        vertical-align: middle;\n",
       "    }\n",
       "\n",
       "    .dataframe tbody tr th {\n",
       "        vertical-align: top;\n",
       "    }\n",
       "\n",
       "    .dataframe thead th {\n",
       "        text-align: right;\n",
       "    }\n",
       "</style>\n",
       "<table border=\"1\" class=\"dataframe\">\n",
       "  <thead>\n",
       "    <tr style=\"text-align: right;\">\n",
       "      <th></th>\n",
       "      <th>Application Id</th>\n",
       "      <th>Utility</th>\n",
       "      <th>Service City</th>\n",
       "      <th>Service County</th>\n",
       "      <th>Technology Type</th>\n",
       "      <th>Tilt</th>\n",
       "      <th>Azimuth</th>\n",
       "      <th>Mounting Method</th>\n",
       "      <th>Tracking</th>\n",
       "      <th>Customer Sector</th>\n",
       "      <th>App Approved Date</th>\n",
       "      <th>Interconnection Program</th>\n",
       "      <th>VNEM, NEM-V, NEM-Agg</th>\n",
       "      <th>Project is VNEM, NEM-V, NEM-Agg?</th>\n",
       "      <th>NEMPV or nonNEMPV</th>\n",
       "    </tr>\n",
       "  </thead>\n",
       "  <tbody>\n",
       "    <tr>\n",
       "      <th>count</th>\n",
       "      <td>1500393</td>\n",
       "      <td>1500393</td>\n",
       "      <td>1500393</td>\n",
       "      <td>1500393</td>\n",
       "      <td>1500393</td>\n",
       "      <td>1381642</td>\n",
       "      <td>1381642</td>\n",
       "      <td>1500393</td>\n",
       "      <td>1500393</td>\n",
       "      <td>1500393</td>\n",
       "      <td>1500393</td>\n",
       "      <td>1500393</td>\n",
       "      <td>1500393</td>\n",
       "      <td>1500393</td>\n",
       "      <td>1500393</td>\n",
       "    </tr>\n",
       "    <tr>\n",
       "      <th>unique</th>\n",
       "      <td>1500393</td>\n",
       "      <td>3</td>\n",
       "      <td>1182</td>\n",
       "      <td>54</td>\n",
       "      <td>2</td>\n",
       "      <td>268</td>\n",
       "      <td>639</td>\n",
       "      <td>3</td>\n",
       "      <td>4</td>\n",
       "      <td>1</td>\n",
       "      <td>6694</td>\n",
       "      <td>39</td>\n",
       "      <td>4</td>\n",
       "      <td>2</td>\n",
       "      <td>1</td>\n",
       "    </tr>\n",
       "    <tr>\n",
       "      <th>top</th>\n",
       "      <td>PGE-INT-106960619</td>\n",
       "      <td>PGE</td>\n",
       "      <td>SAN DIEGO</td>\n",
       "      <td>SAN DIEGO</td>\n",
       "      <td>SOLAR PV</td>\n",
       "      <td>18.0</td>\n",
       "      <td>180.0</td>\n",
       "      <td>ROOFTOP</td>\n",
       "      <td>FIXED</td>\n",
       "      <td>RESIDENTIAL</td>\n",
       "      <td>2022-10-31</td>\n",
       "      <td>SNEM</td>\n",
       "      <td>NONE</td>\n",
       "      <td>NO</td>\n",
       "      <td>NEMPV</td>\n",
       "    </tr>\n",
       "    <tr>\n",
       "      <th>freq</th>\n",
       "      <td>1</td>\n",
       "      <td>700084</td>\n",
       "      <td>79179</td>\n",
       "      <td>235666</td>\n",
       "      <td>1437192</td>\n",
       "      <td>280770</td>\n",
       "      <td>312715</td>\n",
       "      <td>1476832</td>\n",
       "      <td>1493433</td>\n",
       "      <td>1500393</td>\n",
       "      <td>1568</td>\n",
       "      <td>656767</td>\n",
       "      <td>1492022</td>\n",
       "      <td>1492022</td>\n",
       "      <td>1500393</td>\n",
       "    </tr>\n",
       "  </tbody>\n",
       "</table>\n",
       "</div>"
      ],
      "text/plain": [
       "           Application Id  Utility Service City Service County  \\\n",
       "count             1500393  1500393      1500393        1500393   \n",
       "unique            1500393        3         1182             54   \n",
       "top     PGE-INT-106960619      PGE    SAN DIEGO      SAN DIEGO   \n",
       "freq                    1   700084        79179         235666   \n",
       "\n",
       "       Technology Type     Tilt  Azimuth Mounting Method Tracking  \\\n",
       "count          1500393  1381642  1381642         1500393  1500393   \n",
       "unique               2      268      639               3        4   \n",
       "top           SOLAR PV     18.0    180.0         ROOFTOP    FIXED   \n",
       "freq           1437192   280770   312715         1476832  1493433   \n",
       "\n",
       "       Customer Sector App Approved Date Interconnection Program  \\\n",
       "count          1500393           1500393                 1500393   \n",
       "unique               1              6694                      39   \n",
       "top        RESIDENTIAL        2022-10-31                    SNEM   \n",
       "freq           1500393              1568                  656767   \n",
       "\n",
       "       VNEM, NEM-V, NEM-Agg Project is VNEM, NEM-V, NEM-Agg? NEMPV or nonNEMPV  \n",
       "count               1500393                          1500393           1500393  \n",
       "unique                    4                                2                 1  \n",
       "top                    NONE                               NO             NEMPV  \n",
       "freq                1492022                          1492022           1500393  "
      ]
     },
     "execution_count": 149,
     "metadata": {},
     "output_type": "execute_result"
    }
   ],
   "source": [
    "# Describe categorical variables.\n",
    "df.describe(include=object)"
   ]
  },
  {
   "cell_type": "code",
   "execution_count": 150,
   "metadata": {},
   "outputs": [
    {
     "data": {
      "text/plain": [
       "SOLAR PV             1437192\n",
       "SOLAR PV, STORAGE      63201\n",
       "Name: Technology Type, dtype: int64"
      ]
     },
     "execution_count": 150,
     "metadata": {},
     "output_type": "execute_result"
    }
   ],
   "source": [
    "# Check values.\n",
    "df['Technology Type'].value_counts()"
   ]
  },
  {
   "cell_type": "code",
   "execution_count": 151,
   "metadata": {},
   "outputs": [
    {
     "data": {
      "text/plain": [
       "ROOFTOP    1476832\n",
       "GROUND       21654\n",
       "MIXED         1907\n",
       "Name: Mounting Method, dtype: int64"
      ]
     },
     "execution_count": 151,
     "metadata": {},
     "output_type": "execute_result"
    }
   ],
   "source": [
    "# Check values.\n",
    "df['Mounting Method'].value_counts(dropna=False)"
   ]
  },
  {
   "cell_type": "code",
   "execution_count": 152,
   "metadata": {},
   "outputs": [
    {
     "data": {
      "text/plain": [
       "FIXED          1493433\n",
       "SINGLE-AXIS       3828\n",
       "MIXED             2249\n",
       "DUAL-AXIS          883\n",
       "Name: Tracking, dtype: int64"
      ]
     },
     "execution_count": 152,
     "metadata": {},
     "output_type": "execute_result"
    }
   ],
   "source": [
    "# Check values.\n",
    "df['Tracking'].value_counts(dropna=False)"
   ]
  },
  {
   "cell_type": "code",
   "execution_count": 153,
   "metadata": {},
   "outputs": [
    {
     "data": {
      "text/html": [
       "<div>\n",
       "<style scoped>\n",
       "    .dataframe tbody tr th:only-of-type {\n",
       "        vertical-align: middle;\n",
       "    }\n",
       "\n",
       "    .dataframe tbody tr th {\n",
       "        vertical-align: top;\n",
       "    }\n",
       "\n",
       "    .dataframe thead th {\n",
       "        text-align: right;\n",
       "    }\n",
       "</style>\n",
       "<table border=\"1\" class=\"dataframe\">\n",
       "  <thead>\n",
       "    <tr style=\"text-align: right;\">\n",
       "      <th></th>\n",
       "      <th>Service Zip</th>\n",
       "      <th>System Size DC</th>\n",
       "      <th>System Size AC</th>\n",
       "      <th>Inverter Size (kW AC)</th>\n",
       "      <th>Total System Cost</th>\n",
       "      <th>Itc Cost Basis</th>\n",
       "      <th>NEM Tariff</th>\n",
       "    </tr>\n",
       "  </thead>\n",
       "  <tbody>\n",
       "    <tr>\n",
       "      <th>count</th>\n",
       "      <td>1.500393e+06</td>\n",
       "      <td>1.500393e+06</td>\n",
       "      <td>1.500393e+06</td>\n",
       "      <td>946132.000000</td>\n",
       "      <td>9.691630e+05</td>\n",
       "      <td>9.348190e+05</td>\n",
       "      <td>1.500393e+06</td>\n",
       "    </tr>\n",
       "    <tr>\n",
       "      <th>mean</th>\n",
       "      <td>9.335380e+04</td>\n",
       "      <td>6.412854e+00</td>\n",
       "      <td>6.033560e+00</td>\n",
       "      <td>5.171258</td>\n",
       "      <td>2.403579e+04</td>\n",
       "      <td>1.023001e+04</td>\n",
       "      <td>1.642279e+00</td>\n",
       "    </tr>\n",
       "    <tr>\n",
       "      <th>std</th>\n",
       "      <td>1.435875e+03</td>\n",
       "      <td>5.444554e+00</td>\n",
       "      <td>5.141241e+00</td>\n",
       "      <td>13.589377</td>\n",
       "      <td>2.403528e+04</td>\n",
       "      <td>1.727901e+04</td>\n",
       "      <td>4.793296e-01</td>\n",
       "    </tr>\n",
       "    <tr>\n",
       "      <th>min</th>\n",
       "      <td>9.000100e+04</td>\n",
       "      <td>0.000000e+00</td>\n",
       "      <td>2.000000e-03</td>\n",
       "      <td>0.000000</td>\n",
       "      <td>0.000000e+00</td>\n",
       "      <td>0.000000e+00</td>\n",
       "      <td>1.000000e+00</td>\n",
       "    </tr>\n",
       "    <tr>\n",
       "      <th>25%</th>\n",
       "      <td>9.212900e+04</td>\n",
       "      <td>4.015000e+00</td>\n",
       "      <td>3.779000e+00</td>\n",
       "      <td>3.000000</td>\n",
       "      <td>1.266700e+04</td>\n",
       "      <td>0.000000e+00</td>\n",
       "      <td>1.000000e+00</td>\n",
       "    </tr>\n",
       "    <tr>\n",
       "      <th>50%</th>\n",
       "      <td>9.325000e+04</td>\n",
       "      <td>5.670000e+00</td>\n",
       "      <td>5.320000e+00</td>\n",
       "      <td>4.600000</td>\n",
       "      <td>2.200000e+04</td>\n",
       "      <td>0.000000e+00</td>\n",
       "      <td>2.000000e+00</td>\n",
       "    </tr>\n",
       "    <tr>\n",
       "      <th>75%</th>\n",
       "      <td>9.456500e+04</td>\n",
       "      <td>7.920000e+00</td>\n",
       "      <td>7.459000e+00</td>\n",
       "      <td>7.200000</td>\n",
       "      <td>3.298822e+04</td>\n",
       "      <td>1.827000e+04</td>\n",
       "      <td>2.000000e+00</td>\n",
       "    </tr>\n",
       "    <tr>\n",
       "      <th>max</th>\n",
       "      <td>9.613700e+04</td>\n",
       "      <td>1.106560e+03</td>\n",
       "      <td>9.988000e+02</td>\n",
       "      <td>8149.412000</td>\n",
       "      <td>3.129000e+06</td>\n",
       "      <td>2.271734e+06</td>\n",
       "      <td>2.000000e+00</td>\n",
       "    </tr>\n",
       "  </tbody>\n",
       "</table>\n",
       "</div>"
      ],
      "text/plain": [
       "        Service Zip  System Size DC  System Size AC  Inverter Size (kW AC)  \\\n",
       "count  1.500393e+06    1.500393e+06    1.500393e+06          946132.000000   \n",
       "mean   9.335380e+04    6.412854e+00    6.033560e+00               5.171258   \n",
       "std    1.435875e+03    5.444554e+00    5.141241e+00              13.589377   \n",
       "min    9.000100e+04    0.000000e+00    2.000000e-03               0.000000   \n",
       "25%    9.212900e+04    4.015000e+00    3.779000e+00               3.000000   \n",
       "50%    9.325000e+04    5.670000e+00    5.320000e+00               4.600000   \n",
       "75%    9.456500e+04    7.920000e+00    7.459000e+00               7.200000   \n",
       "max    9.613700e+04    1.106560e+03    9.988000e+02            8149.412000   \n",
       "\n",
       "       Total System Cost  Itc Cost Basis    NEM Tariff  \n",
       "count       9.691630e+05    9.348190e+05  1.500393e+06  \n",
       "mean        2.403579e+04    1.023001e+04  1.642279e+00  \n",
       "std         2.403528e+04    1.727901e+04  4.793296e-01  \n",
       "min         0.000000e+00    0.000000e+00  1.000000e+00  \n",
       "25%         1.266700e+04    0.000000e+00  1.000000e+00  \n",
       "50%         2.200000e+04    0.000000e+00  2.000000e+00  \n",
       "75%         3.298822e+04    1.827000e+04  2.000000e+00  \n",
       "max         3.129000e+06    2.271734e+06  2.000000e+00  "
      ]
     },
     "execution_count": 153,
     "metadata": {},
     "output_type": "execute_result"
    }
   ],
   "source": [
    "# Describe numeric variables.\n",
    "df.describe(include=np.number)"
   ]
  },
  {
   "cell_type": "code",
   "execution_count": 154,
   "metadata": {},
   "outputs": [],
   "source": [
    "# Check numbers.\n",
    "if len(df.loc[df['System Size DC'] < 0]) > 0: raise ValueError('System Size DC cannot be negative.')\n",
    "if len(df.loc[df['System Size AC'] < 0]) > 0: raise ValueError('System Size AC cannot be negative.')\n",
    "if len(df.loc[df['Inverter Size (kW AC)'] < 0]) > 0: raise ValueError('Inverter Size (kW AC) cannot be negative.')"
   ]
  },
  {
   "cell_type": "code",
   "execution_count": null,
   "metadata": {},
   "outputs": [],
   "source": []
  },
  {
   "cell_type": "code",
   "execution_count": null,
   "metadata": {},
   "outputs": [],
   "source": []
  }
 ],
 "metadata": {
  "kernelspec": {
   "display_name": "base",
   "language": "python",
   "name": "python3"
  },
  "language_info": {
   "codemirror_mode": {
    "name": "ipython",
    "version": 3
   },
   "file_extension": ".py",
   "mimetype": "text/x-python",
   "name": "python",
   "nbconvert_exporter": "python",
   "pygments_lexer": "ipython3",
   "version": "3.8.10"
  },
  "orig_nbformat": 4
 },
 "nbformat": 4,
 "nbformat_minor": 2
}
