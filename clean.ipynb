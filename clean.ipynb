{
 "cells": [
  {
   "cell_type": "code",
   "execution_count": 272,
   "metadata": {},
   "outputs": [],
   "source": [
    "import os\n",
    "import numpy as np\n",
    "import pandas as pd"
   ]
  },
  {
   "cell_type": "code",
   "execution_count": 273,
   "metadata": {},
   "outputs": [],
   "source": [
    "# Columns to keep.\n",
    "usecols = [\n",
    "    'Application Id',\n",
    "    'Utility',\n",
    "    'Service City',\n",
    "    'Service Zip',\n",
    "    'Service County',\n",
    "    'Technology Type',\n",
    "    'System Size DC',\n",
    "    'System Size AC',\n",
    "    'Inverter Size (kW AC)',\n",
    "    'Tilt',\n",
    "    'Azimuth',\n",
    "    'Mounting Method',\n",
    "    'Tracking',\n",
    "    'Customer Sector',\n",
    "    'App Approved Date',\n",
    "    'Total System Cost',\n",
    "    'Itc Cost Basis',\n",
    "    'NEM Tariff',\n",
    "    'Interconnection Program',\n",
    "    'VNEM, NEM-V, NEM-Agg',\n",
    "    'Project is VNEM, NEM-V, NEM-Agg?',\n",
    "    'NEMPV or nonNEMPV'\n",
    "]"
   ]
  },
  {
   "cell_type": "code",
   "execution_count": 274,
   "metadata": {},
   "outputs": [
    {
     "name": "stderr",
     "output_type": "stream",
     "text": [
      "/var/folders/zw/znrrh10n18z0wf8gggwxj0jc0000gn/T/ipykernel_94019/373408686.py:5: DtypeWarning: Columns (13,14,15) have mixed types. Specify dtype option on import or set low_memory=False.\n",
      "  df = pd.read_csv(pge_sites_file, usecols=usecols)\n"
     ]
    }
   ],
   "source": [
    "# CAISO interconnection data. \n",
    "pge_sites_file = 'data/Interconnected_Project_Sites_2023-03-31/PGE_Interconnected_Project_Sites_2023-03-31.csv'\n",
    "\n",
    "# Import sites.\n",
    "df = pd.read_csv(pge_sites_file, usecols=usecols)"
   ]
  },
  {
   "cell_type": "code",
   "execution_count": 275,
   "metadata": {},
   "outputs": [],
   "source": [
    "# Filter data by customer sector, technology type, and tariff structure.\n",
    "df = df.loc[(df['Customer Sector'] == 'Residential') & (df['Technology Type'] == 'Solar PV') & (df['NEMPV or nonNEMPV'] == 'NEMPV')]"
   ]
  },
  {
   "cell_type": "code",
   "execution_count": 276,
   "metadata": {},
   "outputs": [
    {
     "data": {
      "text/plain": [
       "Application Id                           0\n",
       "Utility                                  0\n",
       "Service City                             0\n",
       "Service Zip                              0\n",
       "Service County                           0\n",
       "Technology Type                          0\n",
       "System Size DC                           0\n",
       "System Size AC                           0\n",
       "Inverter Size (kW AC)                    0\n",
       "Tilt                                     0\n",
       "Azimuth                                  0\n",
       "Mounting Method                     150798\n",
       "Tracking                             97360\n",
       "Customer Sector                          0\n",
       "App Approved Date                        0\n",
       "Total System Cost                   150723\n",
       "Itc Cost Basis                      150723\n",
       "NEM Tariff                               0\n",
       "Interconnection Program                  0\n",
       "VNEM, NEM-V, NEM-Agg                     0\n",
       "Project is VNEM, NEM-V, NEM-Agg?         0\n",
       "NEMPV or nonNEMPV                        0\n",
       "dtype: int64"
      ]
     },
     "execution_count": 276,
     "metadata": {},
     "output_type": "execute_result"
    }
   ],
   "source": [
    "# Check NaNs.\n",
    "df.isna().sum()"
   ]
  },
  {
   "cell_type": "code",
   "execution_count": 277,
   "metadata": {},
   "outputs": [],
   "source": [
    "# Fill NaNs.\n",
    "df['Mounting Method'].fillna(value='Rooftop', inplace=True)\n",
    "df['Tracking'].fillna(value='Mixed', inplace=True)\n",
    "df['Total System Cost'].fillna(value=0.0, inplace=True)\n",
    "df['Itc Cost Basis'].fillna(value=0.0, inplace=True)"
   ]
  },
  {
   "cell_type": "code",
   "execution_count": 278,
   "metadata": {},
   "outputs": [
    {
     "data": {
      "text/plain": [
       "Application Id                      0\n",
       "Utility                             0\n",
       "Service City                        0\n",
       "Service Zip                         0\n",
       "Service County                      0\n",
       "Technology Type                     0\n",
       "System Size DC                      0\n",
       "System Size AC                      0\n",
       "Inverter Size (kW AC)               0\n",
       "Tilt                                0\n",
       "Azimuth                             0\n",
       "Mounting Method                     0\n",
       "Tracking                            0\n",
       "Customer Sector                     0\n",
       "App Approved Date                   0\n",
       "Total System Cost                   0\n",
       "Itc Cost Basis                      0\n",
       "NEM Tariff                          0\n",
       "Interconnection Program             0\n",
       "VNEM, NEM-V, NEM-Agg                0\n",
       "Project is VNEM, NEM-V, NEM-Agg?    0\n",
       "NEMPV or nonNEMPV                   0\n",
       "dtype: int64"
      ]
     },
     "execution_count": 278,
     "metadata": {},
     "output_type": "execute_result"
    }
   ],
   "source": [
    "# Confirm NaNs.\n",
    "df.isna().sum()"
   ]
  },
  {
   "cell_type": "code",
   "execution_count": 279,
   "metadata": {},
   "outputs": [
    {
     "data": {
      "text/plain": [
       "Application Id                       object\n",
       "Utility                              object\n",
       "Service City                         object\n",
       "Service Zip                         float64\n",
       "Service County                       object\n",
       "Technology Type                      object\n",
       "System Size DC                      float64\n",
       "System Size AC                      float64\n",
       "Inverter Size (kW AC)               float64\n",
       "Tilt                                 object\n",
       "Azimuth                              object\n",
       "Mounting Method                      object\n",
       "Tracking                             object\n",
       "Customer Sector                      object\n",
       "App Approved Date                    object\n",
       "Total System Cost                   float64\n",
       "Itc Cost Basis                      float64\n",
       "NEM Tariff                          float64\n",
       "Interconnection Program              object\n",
       "VNEM, NEM-V, NEM-Agg                 object\n",
       "Project is VNEM, NEM-V, NEM-Agg?     object\n",
       "NEMPV or nonNEMPV                    object\n",
       "dtype: object"
      ]
     },
     "execution_count": 279,
     "metadata": {},
     "output_type": "execute_result"
    }
   ],
   "source": [
    "# Check data types.\n",
    "df.dtypes"
   ]
  },
  {
   "cell_type": "code",
   "execution_count": 280,
   "metadata": {},
   "outputs": [],
   "source": [
    "# Clean data.\n",
    "df.loc[df['Mounting Method'] == 'multiple', ['Mounting Method']] = 'Mixed'\n",
    "df.loc[df['Tracking'] == 'multiple', ['Tracking']] = 'Mixed'\n",
    "df.loc[df['Tracking'] == 'Tracking', ['Tracking']] = 'Single-Axis'\n",
    "\n",
    "# Remove negative values.\n",
    "df['System Size DC'] = df['System Size DC'].abs()\n",
    "df['System Size AC'] = df['System Size AC'].abs()\n",
    "df['Inverter Size (kW AC)'] = df['Inverter Size (kW AC)'].abs()"
   ]
  },
  {
   "cell_type": "code",
   "execution_count": 281,
   "metadata": {},
   "outputs": [
    {
     "data": {
      "text/html": [
       "<div>\n",
       "<style scoped>\n",
       "    .dataframe tbody tr th:only-of-type {\n",
       "        vertical-align: middle;\n",
       "    }\n",
       "\n",
       "    .dataframe tbody tr th {\n",
       "        vertical-align: top;\n",
       "    }\n",
       "\n",
       "    .dataframe thead th {\n",
       "        text-align: right;\n",
       "    }\n",
       "</style>\n",
       "<table border=\"1\" class=\"dataframe\">\n",
       "  <thead>\n",
       "    <tr style=\"text-align: right;\">\n",
       "      <th></th>\n",
       "      <th>Application Id</th>\n",
       "      <th>Utility</th>\n",
       "      <th>Service City</th>\n",
       "      <th>Service County</th>\n",
       "      <th>Technology Type</th>\n",
       "      <th>Tilt</th>\n",
       "      <th>Azimuth</th>\n",
       "      <th>Mounting Method</th>\n",
       "      <th>Tracking</th>\n",
       "      <th>Customer Sector</th>\n",
       "      <th>App Approved Date</th>\n",
       "      <th>Interconnection Program</th>\n",
       "      <th>VNEM, NEM-V, NEM-Agg</th>\n",
       "      <th>Project is VNEM, NEM-V, NEM-Agg?</th>\n",
       "      <th>NEMPV or nonNEMPV</th>\n",
       "    </tr>\n",
       "  </thead>\n",
       "  <tbody>\n",
       "    <tr>\n",
       "      <th>count</th>\n",
       "      <td>659977</td>\n",
       "      <td>659977</td>\n",
       "      <td>659977</td>\n",
       "      <td>659977</td>\n",
       "      <td>659977</td>\n",
       "      <td>659977</td>\n",
       "      <td>659977</td>\n",
       "      <td>659977</td>\n",
       "      <td>659977</td>\n",
       "      <td>659977</td>\n",
       "      <td>659977</td>\n",
       "      <td>659977</td>\n",
       "      <td>659977</td>\n",
       "      <td>659977</td>\n",
       "      <td>659977</td>\n",
       "    </tr>\n",
       "    <tr>\n",
       "      <th>unique</th>\n",
       "      <td>659977</td>\n",
       "      <td>1</td>\n",
       "      <td>1397</td>\n",
       "      <td>55</td>\n",
       "      <td>1</td>\n",
       "      <td>104</td>\n",
       "      <td>376</td>\n",
       "      <td>3</td>\n",
       "      <td>4</td>\n",
       "      <td>1</td>\n",
       "      <td>6025</td>\n",
       "      <td>9</td>\n",
       "      <td>4</td>\n",
       "      <td>2</td>\n",
       "      <td>1</td>\n",
       "    </tr>\n",
       "    <tr>\n",
       "      <th>top</th>\n",
       "      <td>PGE-INT-107036420</td>\n",
       "      <td>PGE</td>\n",
       "      <td>BAKERSFIELD</td>\n",
       "      <td>FRESNO</td>\n",
       "      <td>Solar PV</td>\n",
       "      <td>18.0</td>\n",
       "      <td>180.0</td>\n",
       "      <td>Rooftop</td>\n",
       "      <td>Fixed</td>\n",
       "      <td>Residential</td>\n",
       "      <td>2022-07-15</td>\n",
       "      <td>SNEM</td>\n",
       "      <td>None</td>\n",
       "      <td>No</td>\n",
       "      <td>NEMPV</td>\n",
       "    </tr>\n",
       "    <tr>\n",
       "      <th>freq</th>\n",
       "      <td>1</td>\n",
       "      <td>659977</td>\n",
       "      <td>45911</td>\n",
       "      <td>72844</td>\n",
       "      <td>659977</td>\n",
       "      <td>117829</td>\n",
       "      <td>122822</td>\n",
       "      <td>645420</td>\n",
       "      <td>559748</td>\n",
       "      <td>659977</td>\n",
       "      <td>850</td>\n",
       "      <td>656691</td>\n",
       "      <td>655513</td>\n",
       "      <td>655513</td>\n",
       "      <td>659977</td>\n",
       "    </tr>\n",
       "  </tbody>\n",
       "</table>\n",
       "</div>"
      ],
      "text/plain": [
       "           Application Id Utility Service City Service County Technology Type  \\\n",
       "count              659977  659977       659977         659977          659977   \n",
       "unique             659977       1         1397             55               1   \n",
       "top     PGE-INT-107036420     PGE  BAKERSFIELD         FRESNO        Solar PV   \n",
       "freq                    1  659977        45911          72844          659977   \n",
       "\n",
       "          Tilt Azimuth Mounting Method Tracking Customer Sector  \\\n",
       "count   659977  659977          659977   659977          659977   \n",
       "unique     104     376               3        4               1   \n",
       "top       18.0   180.0         Rooftop    Fixed     Residential   \n",
       "freq    117829  122822          645420   559748          659977   \n",
       "\n",
       "       App Approved Date Interconnection Program VNEM, NEM-V, NEM-Agg  \\\n",
       "count             659977                  659977               659977   \n",
       "unique              6025                       9                    4   \n",
       "top           2022-07-15                    SNEM                 None   \n",
       "freq                 850                  656691               655513   \n",
       "\n",
       "       Project is VNEM, NEM-V, NEM-Agg? NEMPV or nonNEMPV  \n",
       "count                            659977            659977  \n",
       "unique                                2                 1  \n",
       "top                                  No             NEMPV  \n",
       "freq                             655513            659977  "
      ]
     },
     "execution_count": 281,
     "metadata": {},
     "output_type": "execute_result"
    }
   ],
   "source": [
    "# Describe categorical variables.\n",
    "df.describe(include=object)"
   ]
  },
  {
   "cell_type": "code",
   "execution_count": 282,
   "metadata": {},
   "outputs": [
    {
     "data": {
      "text/plain": [
       "Rooftop    645420\n",
       "Ground      13583\n",
       "Mixed         974\n",
       "Name: Mounting Method, dtype: int64"
      ]
     },
     "execution_count": 282,
     "metadata": {},
     "output_type": "execute_result"
    }
   ],
   "source": [
    "# Check values.\n",
    "df['Mounting Method'].value_counts(dropna=False)"
   ]
  },
  {
   "cell_type": "code",
   "execution_count": 283,
   "metadata": {},
   "outputs": [
    {
     "data": {
      "text/plain": [
       "Fixed          559748\n",
       "Mixed           98214\n",
       "Single-Axis      1411\n",
       "Dual-Axis         604\n",
       "Name: Tracking, dtype: int64"
      ]
     },
     "execution_count": 283,
     "metadata": {},
     "output_type": "execute_result"
    }
   ],
   "source": [
    "# Check values.\n",
    "df['Tracking'].value_counts(dropna=False)"
   ]
  },
  {
   "cell_type": "code",
   "execution_count": 284,
   "metadata": {},
   "outputs": [
    {
     "data": {
      "text/html": [
       "<div>\n",
       "<style scoped>\n",
       "    .dataframe tbody tr th:only-of-type {\n",
       "        vertical-align: middle;\n",
       "    }\n",
       "\n",
       "    .dataframe tbody tr th {\n",
       "        vertical-align: top;\n",
       "    }\n",
       "\n",
       "    .dataframe thead th {\n",
       "        text-align: right;\n",
       "    }\n",
       "</style>\n",
       "<table border=\"1\" class=\"dataframe\">\n",
       "  <thead>\n",
       "    <tr style=\"text-align: right;\">\n",
       "      <th></th>\n",
       "      <th>Service Zip</th>\n",
       "      <th>System Size DC</th>\n",
       "      <th>System Size AC</th>\n",
       "      <th>Inverter Size (kW AC)</th>\n",
       "      <th>Total System Cost</th>\n",
       "      <th>Itc Cost Basis</th>\n",
       "      <th>NEM Tariff</th>\n",
       "    </tr>\n",
       "  </thead>\n",
       "  <tbody>\n",
       "    <tr>\n",
       "      <th>count</th>\n",
       "      <td>659977.000000</td>\n",
       "      <td>659977.000000</td>\n",
       "      <td>659977.000000</td>\n",
       "      <td>659977.000000</td>\n",
       "      <td>6.599770e+05</td>\n",
       "      <td>6.599770e+05</td>\n",
       "      <td>659977.000000</td>\n",
       "    </tr>\n",
       "    <tr>\n",
       "      <th>mean</th>\n",
       "      <td>94646.504366</td>\n",
       "      <td>6.216334</td>\n",
       "      <td>6.042783</td>\n",
       "      <td>5.710074</td>\n",
       "      <td>1.519552e+04</td>\n",
       "      <td>6.143954e+03</td>\n",
       "      <td>1.630489</td>\n",
       "    </tr>\n",
       "    <tr>\n",
       "      <th>std</th>\n",
       "      <td>852.846767</td>\n",
       "      <td>4.597361</td>\n",
       "      <td>4.484551</td>\n",
       "      <td>11.486298</td>\n",
       "      <td>2.095502e+04</td>\n",
       "      <td>1.365796e+04</td>\n",
       "      <td>0.482673</td>\n",
       "    </tr>\n",
       "    <tr>\n",
       "      <th>min</th>\n",
       "      <td>92263.000000</td>\n",
       "      <td>0.000000</td>\n",
       "      <td>0.002000</td>\n",
       "      <td>0.000000</td>\n",
       "      <td>0.000000e+00</td>\n",
       "      <td>0.000000e+00</td>\n",
       "      <td>1.000000</td>\n",
       "    </tr>\n",
       "    <tr>\n",
       "      <th>25%</th>\n",
       "      <td>93727.000000</td>\n",
       "      <td>3.822000</td>\n",
       "      <td>3.722000</td>\n",
       "      <td>3.747000</td>\n",
       "      <td>0.000000e+00</td>\n",
       "      <td>0.000000e+00</td>\n",
       "      <td>1.000000</td>\n",
       "    </tr>\n",
       "    <tr>\n",
       "      <th>50%</th>\n",
       "      <td>94583.000000</td>\n",
       "      <td>5.481000</td>\n",
       "      <td>5.326000</td>\n",
       "      <td>5.000000</td>\n",
       "      <td>1.115400e+04</td>\n",
       "      <td>0.000000e+00</td>\n",
       "      <td>2.000000</td>\n",
       "    </tr>\n",
       "    <tr>\n",
       "      <th>75%</th>\n",
       "      <td>95361.000000</td>\n",
       "      <td>7.722000</td>\n",
       "      <td>7.517000</td>\n",
       "      <td>7.494000</td>\n",
       "      <td>2.592000e+04</td>\n",
       "      <td>0.000000e+00</td>\n",
       "      <td>2.000000</td>\n",
       "    </tr>\n",
       "    <tr>\n",
       "      <th>max</th>\n",
       "      <td>96137.000000</td>\n",
       "      <td>766.080000</td>\n",
       "      <td>751.005000</td>\n",
       "      <td>8149.412000</td>\n",
       "      <td>2.995626e+06</td>\n",
       "      <td>1.182000e+06</td>\n",
       "      <td>2.000000</td>\n",
       "    </tr>\n",
       "  </tbody>\n",
       "</table>\n",
       "</div>"
      ],
      "text/plain": [
       "         Service Zip  System Size DC  System Size AC  Inverter Size (kW AC)  \\\n",
       "count  659977.000000   659977.000000   659977.000000          659977.000000   \n",
       "mean    94646.504366        6.216334        6.042783               5.710074   \n",
       "std       852.846767        4.597361        4.484551              11.486298   \n",
       "min     92263.000000        0.000000        0.002000               0.000000   \n",
       "25%     93727.000000        3.822000        3.722000               3.747000   \n",
       "50%     94583.000000        5.481000        5.326000               5.000000   \n",
       "75%     95361.000000        7.722000        7.517000               7.494000   \n",
       "max     96137.000000      766.080000      751.005000            8149.412000   \n",
       "\n",
       "       Total System Cost  Itc Cost Basis     NEM Tariff  \n",
       "count       6.599770e+05    6.599770e+05  659977.000000  \n",
       "mean        1.519552e+04    6.143954e+03       1.630489  \n",
       "std         2.095502e+04    1.365796e+04       0.482673  \n",
       "min         0.000000e+00    0.000000e+00       1.000000  \n",
       "25%         0.000000e+00    0.000000e+00       1.000000  \n",
       "50%         1.115400e+04    0.000000e+00       2.000000  \n",
       "75%         2.592000e+04    0.000000e+00       2.000000  \n",
       "max         2.995626e+06    1.182000e+06       2.000000  "
      ]
     },
     "execution_count": 284,
     "metadata": {},
     "output_type": "execute_result"
    }
   ],
   "source": [
    "# Describe numeric variables.\n",
    "df.describe(include=np.number)"
   ]
  },
  {
   "cell_type": "code",
   "execution_count": 288,
   "metadata": {},
   "outputs": [],
   "source": [
    "# Check numbers.\n",
    "if len(df.loc[df['System Size DC'] < 0]) > 0: raise ValueError('System Size DC cannot be negative.')\n",
    "if len(df.loc[df['System Size AC'] < 0]) > 0: raise ValueError('System Size AC cannot be negative.')\n",
    "if len(df.loc[df['Inverter Size (kW AC)'] < 0]) > 0: raise ValueError('Inverter Size (kW AC) cannot be negative.')"
   ]
  },
  {
   "cell_type": "code",
   "execution_count": null,
   "metadata": {},
   "outputs": [],
   "source": []
  },
  {
   "cell_type": "code",
   "execution_count": null,
   "metadata": {},
   "outputs": [],
   "source": []
  }
 ],
 "metadata": {
  "kernelspec": {
   "display_name": "base",
   "language": "python",
   "name": "python3"
  },
  "language_info": {
   "codemirror_mode": {
    "name": "ipython",
    "version": 3
   },
   "file_extension": ".py",
   "mimetype": "text/x-python",
   "name": "python",
   "nbconvert_exporter": "python",
   "pygments_lexer": "ipython3",
   "version": "3.8.10"
  },
  "orig_nbformat": 4
 },
 "nbformat": 4,
 "nbformat_minor": 2
}
