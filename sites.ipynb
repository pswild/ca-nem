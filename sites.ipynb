{
 "cells": [
  {
   "cell_type": "code",
   "execution_count": 54,
   "metadata": {},
   "outputs": [],
   "source": [
    "import os\n",
    "import numpy as np\n",
    "import pandas as pd"
   ]
  },
  {
   "cell_type": "code",
   "execution_count": 55,
   "metadata": {},
   "outputs": [],
   "source": [
    "# Columns to keep.\n",
    "usecols = [\n",
    "    'Application Id',\n",
    "    'Utility',\n",
    "    'Service City',\n",
    "    'Service Zip',\n",
    "    'Service County',\n",
    "    'Technology Type',\n",
    "    'System Size DC',\n",
    "    'System Size AC',\n",
    "    'Inverter Size (kW AC)',\n",
    "    'Tilt',\n",
    "    'Azimuth',\n",
    "    'Mounting Method',\n",
    "    'Tracking',\n",
    "    'Customer Sector',\n",
    "    'App Approved Date',\n",
    "    'Total System Cost',\n",
    "    'Itc Cost Basis',\n",
    "    'NEM Tariff',\n",
    "    'Interconnection Program',\n",
    "    'VNEM, NEM-V, NEM-Agg',\n",
    "    'Project is VNEM, NEM-V, NEM-Agg?',\n",
    "    'NEMPV or nonNEMPV'\n",
    "]\n",
    "\n",
    "# Utilities. \n",
    "utilities = [\n",
    "    'PGE',\n",
    "    'SDGE',\n",
    "    'SCE'\n",
    "]\n",
    "\n",
    "# Technologies in which solar is the sole means of generation.\n",
    "# NOTE: should we include sites with storage?\n",
    "technologies = [\n",
    "    'Solar PV',\n",
    "    'Solar',\n",
    "    'Solar PV, Storage',\n",
    "    'Solar PV;Storage',\n",
    "    'SOLAR PV',\n",
    "    'Other, Solar PV',\n",
    "    'Other, Solar PV, Storage'\n",
    "]"
   ]
  },
  {
   "cell_type": "code",
   "execution_count": 56,
   "metadata": {},
   "outputs": [
    {
     "name": "stderr",
     "output_type": "stream",
     "text": [
      "/var/folders/zw/znrrh10n18z0wf8gggwxj0jc0000gn/T/ipykernel_57267/1725909909.py:16: DtypeWarning: Columns (13,14,15) have mixed types. Specify dtype option on import or set low_memory=False.\n",
      "  subset = pd.read_csv(path, usecols=usecols)\n",
      "/var/folders/zw/znrrh10n18z0wf8gggwxj0jc0000gn/T/ipykernel_57267/1725909909.py:16: DtypeWarning: Columns (13,14) have mixed types. Specify dtype option on import or set low_memory=False.\n",
      "  subset = pd.read_csv(path, usecols=usecols)\n",
      "/var/folders/zw/znrrh10n18z0wf8gggwxj0jc0000gn/T/ipykernel_57267/1725909909.py:16: DtypeWarning: Columns (13,14) have mixed types. Specify dtype option on import or set low_memory=False.\n",
      "  subset = pd.read_csv(path, usecols=usecols)\n"
     ]
    }
   ],
   "source": [
    "#--- LOAD ---#\n",
    "\n",
    "# Directory path. \n",
    "dir = 'data/Interconnected_Project_Sites_2023-03-31'\n",
    "\n",
    "# Dataframe for sites. \n",
    "df = pd.DataFrame()\n",
    "\n",
    "# Combine interconnection data from all utilities.\n",
    "for file in os.listdir(dir):\n",
    "\n",
    "    # Update path.\n",
    "    path = os.path.join(dir, file)\n",
    "\n",
    "    # Read data from one utility into dataframe. \n",
    "    subset = pd.read_csv(path, usecols=usecols)\n",
    "\n",
    "    # Append. \n",
    "    df = pd.concat([df, subset])"
   ]
  },
  {
   "cell_type": "code",
   "execution_count": 57,
   "metadata": {},
   "outputs": [],
   "source": [
    "#--- FILTER ---#\n",
    "\n",
    "# Filter data by utility, customer sector, tariff structure, and technology type.\n",
    "df = df.loc[\n",
    "    (df['Utility'].isin(utilities)) &\n",
    "    (df['Customer Sector'] == 'Residential') &\n",
    "    (df['NEMPV or nonNEMPV'] == 'NEMPV') & \n",
    "    (df['Technology Type'].isin(technologies))\n",
    "]"
   ]
  },
  {
   "cell_type": "code",
   "execution_count": 58,
   "metadata": {},
   "outputs": [],
   "source": [
    "#--- CLEAN ---#\n",
    "\n",
    "# Convert to datetime.\n",
    "df['App Approved Date'] = pd.to_datetime(df['App Approved Date'])\n",
    "\n",
    "# Sort by date.\n",
    "df.sort_values(by=['App Approved Date'], ascending=False, inplace=True, ignore_index=True)\n",
    "\n",
    "# Convert ZIP codes to strings.\n",
    "df['Service Zip'] = df['Service Zip'].astype(str).str.zfill(5).str.slice(0, 5)\n",
    "\n",
    "# Convert tariff types to strings.\n",
    "df['NEM Tariff'] = df['NEM Tariff'].astype(str)\n",
    "\n",
    "# Convert strings to uppercase for nonnumeric columns.\n",
    "df = df.apply(lambda x: x.str.upper() if x.dtype == \"object\" else x)\n",
    "\n",
    "# Make labels compatible across utilities.\n",
    "df.loc[df['Technology Type'] == 'SOLAR', ['Technology Type']] = 'SOLAR PV'\n",
    "df.loc[df['Technology Type'] == 'OTHER, SOLAR PV', ['Technology Type']] = 'SOLAR PV'\n",
    "df.loc[df['Technology Type'] == 'SOLAR PV;STORAGE', ['Technology Type']] = 'SOLAR PV, STORAGE'\n",
    "df.loc[df['Technology Type'] == 'OTHER, SOLAR PV, STORAGE', ['Technology Type']] = 'SOLAR PV, STORAGE'\n",
    "df.loc[df['Mounting Method'] == 'MIXED', ['Mounting Method']] = 'MULTIPLE'\n",
    "df.loc[df['Tracking'] == 'MIXED', ['Tracking']] = 'MULTIPLE'\n",
    "df.loc[df['Tracking'] == 'TRACKING', ['Tracking']] = 'SINGLE-AXIS'"
   ]
  },
  {
   "cell_type": "code",
   "execution_count": 59,
   "metadata": {},
   "outputs": [],
   "source": [
    "#--- ASSUMPTIONS ---#\n",
    "\n",
    "# If no tilt or azimuth is specified, assign the most common value.\n",
    "df['Tilt'].fillna(value=df['Tilt'].value_counts().index[0], inplace=True) # 18.0\n",
    "df['Azimuth'].fillna(value=df['Azimuth'].value_counts().index[0], inplace=True) # 180.0\n",
    "\n",
    "# For sites with multiple tilts or azimuths, assign most common value.\n",
    "df.loc[df['Tilt'] == 'MULTIPLE', ['Tilt']] = df['Tilt'].value_counts().index[0] # 18.0\n",
    "df.loc[df['Azimuth'] == 'MULTIPLE', ['Azimuth']] = df['Azimuth'].value_counts().index[0] # 180.0\n",
    "\n",
    "# Convert tilt and azimuth to floats (and assign NaNs for tracking systems).\n",
    "df['Tilt'] = pd.to_numeric(df['Tilt'], errors='coerce')\n",
    "df['Azimuth'] = pd.to_numeric(df['Azimuth'], errors='coerce')\n",
    "\n",
    "# If no mounting method or tracking style is specified, assign the most common value.\n",
    "df['Mounting Method'].fillna(value=df['Mounting Method'].value_counts().index[0], inplace=True)\n",
    "df['Tracking'].fillna(value=df['Tracking'].value_counts().index[0], inplace=True)\n",
    "\n",
    "# Replace instances of zero cost with NaNs.\n",
    "df.loc[df['Total System Cost'] == 0.0, ['Total System Cost']] = float('NaN')\n",
    "df.loc[df['Itc Cost Basis'] == 0.0, ['Itc Cost Basis']] = float('NaN')\n",
    "\n",
    "# Correct what are presumably erroneous negative system and inverter sizes.\n",
    "df['System Size DC'] = df['System Size DC'].abs()\n",
    "df['System Size AC'] = df['System Size AC'].abs()\n",
    "df['Inverter Size (kW AC)'] = df['Inverter Size (kW AC)'].abs()"
   ]
  },
  {
   "cell_type": "code",
   "execution_count": 60,
   "metadata": {},
   "outputs": [],
   "source": [
    "#--- EXPORT ---#\n",
    "\n",
    "# Write dataframe to CSV.\n",
    "df.to_csv(f'{dir}/Aggregated_Sites.csv', index=False)"
   ]
  },
  {
   "cell_type": "code",
   "execution_count": 61,
   "metadata": {},
   "outputs": [
    {
     "data": {
      "text/html": [
       "<div>\n",
       "<style scoped>\n",
       "    .dataframe tbody tr th:only-of-type {\n",
       "        vertical-align: middle;\n",
       "    }\n",
       "\n",
       "    .dataframe tbody tr th {\n",
       "        vertical-align: top;\n",
       "    }\n",
       "\n",
       "    .dataframe thead th {\n",
       "        text-align: right;\n",
       "    }\n",
       "</style>\n",
       "<table border=\"1\" class=\"dataframe\">\n",
       "  <thead>\n",
       "    <tr style=\"text-align: right;\">\n",
       "      <th></th>\n",
       "      <th>Application Id</th>\n",
       "      <th>Utility</th>\n",
       "      <th>Service City</th>\n",
       "      <th>Service Zip</th>\n",
       "      <th>Service County</th>\n",
       "      <th>Technology Type</th>\n",
       "      <th>Mounting Method</th>\n",
       "      <th>Tracking</th>\n",
       "      <th>Customer Sector</th>\n",
       "      <th>NEM Tariff</th>\n",
       "      <th>Interconnection Program</th>\n",
       "      <th>VNEM, NEM-V, NEM-Agg</th>\n",
       "      <th>Project is VNEM, NEM-V, NEM-Agg?</th>\n",
       "      <th>NEMPV or nonNEMPV</th>\n",
       "    </tr>\n",
       "  </thead>\n",
       "  <tbody>\n",
       "    <tr>\n",
       "      <th>count</th>\n",
       "      <td>1500393</td>\n",
       "      <td>1500393</td>\n",
       "      <td>1500393</td>\n",
       "      <td>1500393</td>\n",
       "      <td>1500393</td>\n",
       "      <td>1500393</td>\n",
       "      <td>1500393</td>\n",
       "      <td>1500393</td>\n",
       "      <td>1500393</td>\n",
       "      <td>1500393</td>\n",
       "      <td>1500393</td>\n",
       "      <td>1500393</td>\n",
       "      <td>1500393</td>\n",
       "      <td>1500393</td>\n",
       "    </tr>\n",
       "    <tr>\n",
       "      <th>unique</th>\n",
       "      <td>1500393</td>\n",
       "      <td>3</td>\n",
       "      <td>1182</td>\n",
       "      <td>1646</td>\n",
       "      <td>54</td>\n",
       "      <td>2</td>\n",
       "      <td>3</td>\n",
       "      <td>4</td>\n",
       "      <td>1</td>\n",
       "      <td>2</td>\n",
       "      <td>39</td>\n",
       "      <td>4</td>\n",
       "      <td>2</td>\n",
       "      <td>1</td>\n",
       "    </tr>\n",
       "    <tr>\n",
       "      <th>top</th>\n",
       "      <td>SCE-INT-NST-396139</td>\n",
       "      <td>PGE</td>\n",
       "      <td>SAN DIEGO</td>\n",
       "      <td>95648</td>\n",
       "      <td>SAN DIEGO</td>\n",
       "      <td>SOLAR PV</td>\n",
       "      <td>ROOFTOP</td>\n",
       "      <td>FIXED</td>\n",
       "      <td>RESIDENTIAL</td>\n",
       "      <td>2.0</td>\n",
       "      <td>SNEM</td>\n",
       "      <td>NONE</td>\n",
       "      <td>NO</td>\n",
       "      <td>NEMPV</td>\n",
       "    </tr>\n",
       "    <tr>\n",
       "      <th>freq</th>\n",
       "      <td>1</td>\n",
       "      <td>700084</td>\n",
       "      <td>79179</td>\n",
       "      <td>10237</td>\n",
       "      <td>235666</td>\n",
       "      <td>1437192</td>\n",
       "      <td>1476832</td>\n",
       "      <td>1493433</td>\n",
       "      <td>1500393</td>\n",
       "      <td>963671</td>\n",
       "      <td>656767</td>\n",
       "      <td>1492022</td>\n",
       "      <td>1492022</td>\n",
       "      <td>1500393</td>\n",
       "    </tr>\n",
       "  </tbody>\n",
       "</table>\n",
       "</div>"
      ],
      "text/plain": [
       "            Application Id  Utility Service City Service Zip Service County  \\\n",
       "count              1500393  1500393      1500393     1500393        1500393   \n",
       "unique             1500393        3         1182        1646             54   \n",
       "top     SCE-INT-NST-396139      PGE    SAN DIEGO       95648      SAN DIEGO   \n",
       "freq                     1   700084        79179       10237         235666   \n",
       "\n",
       "       Technology Type Mounting Method Tracking Customer Sector NEM Tariff  \\\n",
       "count          1500393         1500393  1500393         1500393    1500393   \n",
       "unique               2               3        4               1          2   \n",
       "top           SOLAR PV         ROOFTOP    FIXED     RESIDENTIAL        2.0   \n",
       "freq           1437192         1476832  1493433         1500393     963671   \n",
       "\n",
       "       Interconnection Program VNEM, NEM-V, NEM-Agg  \\\n",
       "count                  1500393              1500393   \n",
       "unique                      39                    4   \n",
       "top                       SNEM                 NONE   \n",
       "freq                    656767              1492022   \n",
       "\n",
       "       Project is VNEM, NEM-V, NEM-Agg? NEMPV or nonNEMPV  \n",
       "count                           1500393           1500393  \n",
       "unique                                2                 1  \n",
       "top                                  NO             NEMPV  \n",
       "freq                            1492022           1500393  "
      ]
     },
     "execution_count": 61,
     "metadata": {},
     "output_type": "execute_result"
    }
   ],
   "source": [
    "#--- VALIDATE ---#\n",
    "\n",
    "# Describe categorical variables.\n",
    "df.describe(include=object)"
   ]
  },
  {
   "cell_type": "code",
   "execution_count": 62,
   "metadata": {},
   "outputs": [
    {
     "data": {
      "text/plain": [
       "SOLAR PV             1437192\n",
       "SOLAR PV, STORAGE      63201\n",
       "Name: Technology Type, dtype: int64"
      ]
     },
     "execution_count": 62,
     "metadata": {},
     "output_type": "execute_result"
    }
   ],
   "source": [
    "# Check values.\n",
    "df['Technology Type'].value_counts(dropna=False)"
   ]
  },
  {
   "cell_type": "code",
   "execution_count": 63,
   "metadata": {},
   "outputs": [
    {
     "data": {
      "text/plain": [
       "ROOFTOP     1476832\n",
       "GROUND        21654\n",
       "MULTIPLE       1907\n",
       "Name: Mounting Method, dtype: int64"
      ]
     },
     "execution_count": 63,
     "metadata": {},
     "output_type": "execute_result"
    }
   ],
   "source": [
    "# Check values.\n",
    "df['Mounting Method'].value_counts(dropna=False)"
   ]
  },
  {
   "cell_type": "code",
   "execution_count": 64,
   "metadata": {},
   "outputs": [
    {
     "data": {
      "text/plain": [
       "FIXED          1493433\n",
       "SINGLE-AXIS       3828\n",
       "MULTIPLE          2249\n",
       "DUAL-AXIS          883\n",
       "Name: Tracking, dtype: int64"
      ]
     },
     "execution_count": 64,
     "metadata": {},
     "output_type": "execute_result"
    }
   ],
   "source": [
    "# Check values.\n",
    "df['Tracking'].value_counts(dropna=False)"
   ]
  },
  {
   "cell_type": "code",
   "execution_count": 65,
   "metadata": {},
   "outputs": [
    {
     "data": {
      "text/plain": [
       "NO     1492022\n",
       "YES       8371\n",
       "Name: Project is VNEM, NEM-V, NEM-Agg?, dtype: int64"
      ]
     },
     "execution_count": 65,
     "metadata": {},
     "output_type": "execute_result"
    }
   ],
   "source": [
    "# Check values. \n",
    "df['Project is VNEM, NEM-V, NEM-Agg?'].value_counts(dropna=False)"
   ]
  },
  {
   "cell_type": "code",
   "execution_count": 66,
   "metadata": {},
   "outputs": [
    {
     "data": {
      "text/plain": [
       "NONE       1492022\n",
       "NEM-AGG       7211\n",
       "VNEM           919\n",
       "NEM-V          241\n",
       "Name: VNEM, NEM-V, NEM-Agg, dtype: int64"
      ]
     },
     "execution_count": 66,
     "metadata": {},
     "output_type": "execute_result"
    }
   ],
   "source": [
    "# Check values. \n",
    "df['VNEM, NEM-V, NEM-Agg'].value_counts(dropna=False)"
   ]
  },
  {
   "cell_type": "code",
   "execution_count": 67,
   "metadata": {},
   "outputs": [
    {
     "data": {
      "text/html": [
       "<div>\n",
       "<style scoped>\n",
       "    .dataframe tbody tr th:only-of-type {\n",
       "        vertical-align: middle;\n",
       "    }\n",
       "\n",
       "    .dataframe tbody tr th {\n",
       "        vertical-align: top;\n",
       "    }\n",
       "\n",
       "    .dataframe thead th {\n",
       "        text-align: right;\n",
       "    }\n",
       "</style>\n",
       "<table border=\"1\" class=\"dataframe\">\n",
       "  <thead>\n",
       "    <tr style=\"text-align: right;\">\n",
       "      <th></th>\n",
       "      <th>System Size DC</th>\n",
       "      <th>System Size AC</th>\n",
       "      <th>Inverter Size (kW AC)</th>\n",
       "      <th>Tilt</th>\n",
       "      <th>Azimuth</th>\n",
       "      <th>Total System Cost</th>\n",
       "      <th>Itc Cost Basis</th>\n",
       "    </tr>\n",
       "  </thead>\n",
       "  <tbody>\n",
       "    <tr>\n",
       "      <th>count</th>\n",
       "      <td>1.500393e+06</td>\n",
       "      <td>1.500393e+06</td>\n",
       "      <td>946132.000000</td>\n",
       "      <td>1.497892e+06</td>\n",
       "      <td>1.497889e+06</td>\n",
       "      <td>8.030550e+05</td>\n",
       "      <td>3.934470e+05</td>\n",
       "    </tr>\n",
       "    <tr>\n",
       "      <th>mean</th>\n",
       "      <td>6.412854e+00</td>\n",
       "      <td>6.033560e+00</td>\n",
       "      <td>5.171258</td>\n",
       "      <td>1.842286e+01</td>\n",
       "      <td>1.798956e+02</td>\n",
       "      <td>2.900748e+04</td>\n",
       "      <td>2.430622e+04</td>\n",
       "    </tr>\n",
       "    <tr>\n",
       "      <th>std</th>\n",
       "      <td>5.444554e+00</td>\n",
       "      <td>5.141241e+00</td>\n",
       "      <td>13.589377</td>\n",
       "      <td>6.935201e+00</td>\n",
       "      <td>6.459484e+01</td>\n",
       "      <td>2.351536e+04</td>\n",
       "      <td>1.916353e+04</td>\n",
       "    </tr>\n",
       "    <tr>\n",
       "      <th>min</th>\n",
       "      <td>0.000000e+00</td>\n",
       "      <td>2.000000e-03</td>\n",
       "      <td>0.000000</td>\n",
       "      <td>0.000000e+00</td>\n",
       "      <td>0.000000e+00</td>\n",
       "      <td>1.000000e-02</td>\n",
       "      <td>1.000000e-02</td>\n",
       "    </tr>\n",
       "    <tr>\n",
       "      <th>25%</th>\n",
       "      <td>4.015000e+00</td>\n",
       "      <td>3.779000e+00</td>\n",
       "      <td>3.000000</td>\n",
       "      <td>1.800000e+01</td>\n",
       "      <td>1.730000e+02</td>\n",
       "      <td>1.785000e+04</td>\n",
       "      <td>1.365440e+04</td>\n",
       "    </tr>\n",
       "    <tr>\n",
       "      <th>50%</th>\n",
       "      <td>5.670000e+00</td>\n",
       "      <td>5.320000e+00</td>\n",
       "      <td>4.600000</td>\n",
       "      <td>1.800000e+01</td>\n",
       "      <td>1.800000e+02</td>\n",
       "      <td>2.528000e+04</td>\n",
       "      <td>2.128950e+04</td>\n",
       "    </tr>\n",
       "    <tr>\n",
       "      <th>75%</th>\n",
       "      <td>7.920000e+00</td>\n",
       "      <td>7.459000e+00</td>\n",
       "      <td>7.200000</td>\n",
       "      <td>2.100000e+01</td>\n",
       "      <td>2.060000e+02</td>\n",
       "      <td>3.548500e+04</td>\n",
       "      <td>3.175000e+04</td>\n",
       "    </tr>\n",
       "    <tr>\n",
       "      <th>max</th>\n",
       "      <td>1.106560e+03</td>\n",
       "      <td>9.988000e+02</td>\n",
       "      <td>8149.412000</td>\n",
       "      <td>3.580000e+02</td>\n",
       "      <td>3.600000e+02</td>\n",
       "      <td>3.129000e+06</td>\n",
       "      <td>2.271734e+06</td>\n",
       "    </tr>\n",
       "  </tbody>\n",
       "</table>\n",
       "</div>"
      ],
      "text/plain": [
       "       System Size DC  System Size AC  Inverter Size (kW AC)          Tilt  \\\n",
       "count    1.500393e+06    1.500393e+06          946132.000000  1.497892e+06   \n",
       "mean     6.412854e+00    6.033560e+00               5.171258  1.842286e+01   \n",
       "std      5.444554e+00    5.141241e+00              13.589377  6.935201e+00   \n",
       "min      0.000000e+00    2.000000e-03               0.000000  0.000000e+00   \n",
       "25%      4.015000e+00    3.779000e+00               3.000000  1.800000e+01   \n",
       "50%      5.670000e+00    5.320000e+00               4.600000  1.800000e+01   \n",
       "75%      7.920000e+00    7.459000e+00               7.200000  2.100000e+01   \n",
       "max      1.106560e+03    9.988000e+02            8149.412000  3.580000e+02   \n",
       "\n",
       "            Azimuth  Total System Cost  Itc Cost Basis  \n",
       "count  1.497889e+06       8.030550e+05    3.934470e+05  \n",
       "mean   1.798956e+02       2.900748e+04    2.430622e+04  \n",
       "std    6.459484e+01       2.351536e+04    1.916353e+04  \n",
       "min    0.000000e+00       1.000000e-02    1.000000e-02  \n",
       "25%    1.730000e+02       1.785000e+04    1.365440e+04  \n",
       "50%    1.800000e+02       2.528000e+04    2.128950e+04  \n",
       "75%    2.060000e+02       3.548500e+04    3.175000e+04  \n",
       "max    3.600000e+02       3.129000e+06    2.271734e+06  "
      ]
     },
     "execution_count": 67,
     "metadata": {},
     "output_type": "execute_result"
    }
   ],
   "source": [
    "# Describe numeric variables.\n",
    "df.describe(include=np.number)"
   ]
  }
 ],
 "metadata": {
  "kernelspec": {
   "display_name": "base",
   "language": "python",
   "name": "python3"
  },
  "language_info": {
   "codemirror_mode": {
    "name": "ipython",
    "version": 3
   },
   "file_extension": ".py",
   "mimetype": "text/x-python",
   "name": "python",
   "nbconvert_exporter": "python",
   "pygments_lexer": "ipython3",
   "version": "3.10.8"
  },
  "orig_nbformat": 4
 },
 "nbformat": 4,
 "nbformat_minor": 2
}
