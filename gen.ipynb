{
 "cells": [
  {
   "cell_type": "code",
   "execution_count": 4,
   "metadata": {},
   "outputs": [],
   "source": [
    "import os\n",
    "import numpy as np\n",
    "import pandas as pd\n",
    "from functools import reduce\n",
    "\n",
    "import PySAM.Pvwattsv8 as pv\n",
    "import PySAM.Utilityrate5 as ur"
   ]
  },
  {
   "attachments": {},
   "cell_type": "markdown",
   "metadata": {},
   "source": [
    "# Option 1\n",
    "Customize default \"PVWatts, No Financing\" model using PySAM."
   ]
  },
  {
   "cell_type": "code",
   "execution_count": 5,
   "metadata": {},
   "outputs": [
    {
     "data": {
      "text/plain": [
       "{'SolarResource': {'albedo': (0.2,\n",
       "   0.2,\n",
       "   0.2,\n",
       "   0.2,\n",
       "   0.2,\n",
       "   0.2,\n",
       "   0.2,\n",
       "   0.2,\n",
       "   0.2,\n",
       "   0.2,\n",
       "   0.2,\n",
       "   0.2),\n",
       "  'use_wf_albedo': 1.0},\n",
       " 'Lifetime': {},\n",
       " 'SystemDesign': {'array_type': 1.0,\n",
       "  'azimuth': 180.0,\n",
       "  'batt_simple_enable': 0.0,\n",
       "  'bifaciality': 0.0,\n",
       "  'dc_ac_ratio': 1.15,\n",
       "  'en_snowloss': 0.0,\n",
       "  'gcr': 0.3,\n",
       "  'inv_eff': 96.0,\n",
       "  'losses': 14.0757,\n",
       "  'module_type': 0.0,\n",
       "  'soiling': (0.0, 0.0, 0.0, 0.0, 0.0, 0.0, 0.0, 0.0, 0.0, 0.0, 0.0, 0.0),\n",
       "  'system_capacity': 100000.0,\n",
       "  'tilt': 20.0},\n",
       " 'AdjustmentFactors': {'constant': 0.0},\n",
       " 'Outputs': {}}"
      ]
     },
     "execution_count": 5,
     "metadata": {},
     "output_type": "execute_result"
    }
   ],
   "source": [
    "# PVWatts, No Financing.\n",
    "default_model = pv.default(\"PVWattsNone\")\n",
    "default_model.export()"
   ]
  },
  {
   "attachments": {},
   "cell_type": "markdown",
   "metadata": {},
   "source": [
    "# Option 2\n",
    "Manually generate representative profiles using the SAM GUI."
   ]
  },
  {
   "cell_type": "code",
   "execution_count": 6,
   "metadata": {},
   "outputs": [],
   "source": [
    "# Directory path. \n",
    "dir = 'data/SAM_Generation_Profiles'\n",
    "\n",
    "# List of generation profiles.\n",
    "gen = []\n",
    "\n",
    "for profile in os.listdir(dir):\n",
    "\n",
    "    # Path.\n",
    "    path = os.path.join(dir, profile)\n",
    "\n",
    "    # Name. \n",
    "    name = profile.split('.')[0]\n",
    "    \n",
    "    # Read file.\n",
    "    df = pd.read_csv(path, header=0, names=['Timestamp', name], encoding='utf-8')\n",
    "\n",
    "    # Convert to datetime.\n",
    "    df['Timestamp'] = pd.to_datetime(df['Timestamp'], format='%b %d, %I:%M %p')\n",
    "\n",
    "    # Fix year.\n",
    "    df['Timestamp'] = df['Timestamp'].apply(lambda dt: dt.replace(year=2022))\n",
    "\n",
    "    # Add to list.\n",
    "    profiles.append(df)\n",
    "\n",
    "# Merge generation profiles on timestamp.\n",
    "gen = reduce(lambda x, y: x.merge(y, on='Timestamp'), profiles)\n",
    "\n",
    "# Write dataframe to CSV. \n",
    "gen.to_csv('data/Aggregated_Gen.csv', index=False)"
   ]
  }
 ],
 "metadata": {
  "kernelspec": {
   "display_name": "nrel",
   "language": "python",
   "name": "python3"
  },
  "language_info": {
   "codemirror_mode": {
    "name": "ipython",
    "version": 3
   },
   "file_extension": ".py",
   "mimetype": "text/x-python",
   "name": "python",
   "nbconvert_exporter": "python",
   "pygments_lexer": "ipython3",
   "version": "3.10.8"
  },
  "orig_nbformat": 4
 },
 "nbformat": 4,
 "nbformat_minor": 2
}
